{
 "cells": [
  {
   "cell_type": "code",
   "execution_count": 1,
   "id": "51300576",
   "metadata": {},
   "outputs": [],
   "source": [
    "import pandas as pd "
   ]
  },
  {
   "cell_type": "code",
   "execution_count": 2,
   "id": "d04c7b47",
   "metadata": {},
   "outputs": [],
   "source": [
    "df = pd.read_csv('check_dataset.csv')"
   ]
  },
  {
   "cell_type": "code",
   "execution_count": 3,
   "id": "741be81c",
   "metadata": {},
   "outputs": [],
   "source": [
    "url = 'https://www.blindkids.org/'"
   ]
  },
  {
   "cell_type": "code",
   "execution_count": 4,
   "id": "41f6cf03",
   "metadata": {},
   "outputs": [],
   "source": [
    "for i in range(0, 2452):\n",
    "    data = df.iloc[i,0]\n",
    "    if (data == url):\n",
    "        break\n",
    "      \n",
    "features = df.iloc[i,1:-1]   "
   ]
  },
  {
   "cell_type": "code",
   "execution_count": 5,
   "id": "bd2712dc",
   "metadata": {},
   "outputs": [
    {
     "name": "stdout",
     "output_type": "stream",
     "text": [
      "length_url              26\n",
      "length_hostname         17\n",
      "ip                       0\n",
      "nb_dots                  2\n",
      "nb_hyphens               0\n",
      "                    ...   \n",
      "domain_age            8018\n",
      "web_traffic        5075341\n",
      "dns_record               0\n",
      "google_index             0\n",
      "page_rank                3\n",
      "Name: 16, Length: 87, dtype: object\n"
     ]
    }
   ],
   "source": [
    "print(features)"
   ]
  },
  {
   "cell_type": "code",
   "execution_count": 6,
   "id": "b7bdd9cc",
   "metadata": {},
   "outputs": [
    {
     "data": {
      "text/plain": [
       "pandas.core.series.Series"
      ]
     },
     "execution_count": 6,
     "metadata": {},
     "output_type": "execute_result"
    }
   ],
   "source": [
    "type(features)"
   ]
  },
  {
   "cell_type": "code",
   "execution_count": 7,
   "id": "27a87d04",
   "metadata": {},
   "outputs": [],
   "source": [
    "f = list(features)"
   ]
  },
  {
   "cell_type": "code",
   "execution_count": 8,
   "id": "8ab9d74e",
   "metadata": {},
   "outputs": [
    {
     "name": "stdout",
     "output_type": "stream",
     "text": [
      "[26, 17, 0, 2, 0, 0, 0, 0, 0, 0, 0, 0, 0, 3, 0, 1, 0, 0, 0, 0, 1, 0, 0, 0, 0, 0.0, 0.0, 0, 0, 0, 0, 0, 2, 0, 0, 0, 0, 0, 0, 2, 3, 3, 3, 0, 9, 9, 0, 6.0, 6.0, 0.0, 0, 0, 0, 0, 0, 0, 152, 0.960526316, 0.039473684, 0, 0, 0, 0.0, 0, 0.0, 0, 0, 95.0, 0, 100.0, 0.0, 0, 0, 0, 37.5, 0, 0, 0, 1, 0, 0, 17, 8018, 5075341, 0, 0, 3]\n"
     ]
    }
   ],
   "source": [
    "print(f)"
   ]
  },
  {
   "cell_type": "code",
   "execution_count": 9,
   "id": "c897230e",
   "metadata": {},
   "outputs": [],
   "source": [
    "import joblib\n",
    "modelReload = joblib.load('Voting_classifier_model2.joblib')"
   ]
  },
  {
   "cell_type": "code",
   "execution_count": 10,
   "id": "d1418fd2",
   "metadata": {},
   "outputs": [
    {
     "name": "stdout",
     "output_type": "stream",
     "text": [
      "[1]\n"
     ]
    }
   ],
   "source": [
    "y_result = modelReload.predict([f])\n",
    "print(y_result)"
   ]
  },
  {
   "cell_type": "code",
   "execution_count": null,
   "id": "ae7ea1aa",
   "metadata": {},
   "outputs": [],
   "source": []
  }
 ],
 "metadata": {
  "kernelspec": {
   "display_name": "Python 3 (ipykernel)",
   "language": "python",
   "name": "python3"
  },
  "language_info": {
   "codemirror_mode": {
    "name": "ipython",
    "version": 3
   },
   "file_extension": ".py",
   "mimetype": "text/x-python",
   "name": "python",
   "nbconvert_exporter": "python",
   "pygments_lexer": "ipython3",
   "version": "3.9.7"
  }
 },
 "nbformat": 4,
 "nbformat_minor": 5
}
