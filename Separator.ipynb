{
 "cells": [
  {
   "cell_type": "code",
   "execution_count": 1,
   "id": "871626e7",
   "metadata": {},
   "outputs": [],
   "source": [
    "import pandas as pd\n",
    "import numpy\n",
    "from sklearn.preprocessing import LabelEncoder\n",
    "from csv import writer\n",
    "import codecs"
   ]
  },
  {
   "cell_type": "code",
   "execution_count": 2,
   "id": "1a996428",
   "metadata": {},
   "outputs": [],
   "source": [
    "x_val = pd.read_csv('x_val.csv', delimiter=',')"
   ]
  },
  {
   "cell_type": "code",
   "execution_count": 3,
   "id": "73e1858e",
   "metadata": {},
   "outputs": [],
   "source": [
    "x_val_wala_list = [list(row) for row in x_val.values]"
   ]
  },
  {
   "cell_type": "code",
   "execution_count": 4,
   "id": "3d115db8",
   "metadata": {},
   "outputs": [],
   "source": [
    "dataset_dropped = pd.read_csv('dataset_dropped.csv', delimiter=',')"
   ]
  },
  {
   "cell_type": "code",
   "execution_count": 5,
   "id": "1e57a50d",
   "metadata": {},
   "outputs": [],
   "source": [
    "dataset_dropped_wala_list = [list(row) for row in dataset_dropped.values]\n"
   ]
  },
  {
   "cell_type": "code",
   "execution_count": 6,
   "id": "b0bdce5f",
   "metadata": {},
   "outputs": [],
   "source": [
    "dataset = pd.read_csv(\"dataset_phishing.csv\", delimiter=',')"
   ]
  },
  {
   "cell_type": "code",
   "execution_count": 7,
   "id": "de505dc7",
   "metadata": {},
   "outputs": [],
   "source": [
    "le = LabelEncoder()\n",
    "dataset.status = le.fit_transform(dataset.status)"
   ]
  },
  {
   "cell_type": "code",
   "execution_count": 8,
   "id": "56edc937",
   "metadata": {},
   "outputs": [],
   "source": [
    "dataset_wala_list = [list(row) for row in dataset.values]"
   ]
  },
  {
   "cell_type": "code",
   "execution_count": 9,
   "id": "956d1d83",
   "metadata": {},
   "outputs": [],
   "source": [
    "f = open('check_dataset.csv', 'w')"
   ]
  },
  {
   "cell_type": "code",
   "execution_count": 14,
   "id": "80e0b375",
   "metadata": {},
   "outputs": [],
   "source": [
    "for i in range(0,len(x_val_wala_list)):\n",
    "    for j in range(0,len(dataset_dropped_wala_list)):\n",
    "        if (x_val_wala_list[i] == dataset_dropped_wala_list[j]):\n",
    "            with codecs.open(r'C:\\Users\\shrestha computer\\Phishing Detection\\check_dataset.csv', 'a', encoding='utf-8') as f_object:\n",
    "                writer_object = writer(f_object)\n",
    "                writer_object.writerow(dataset_wala_list[j])\n",
    "            f_object.close()\n",
    "        else:\n",
    "            continue"
   ]
  },
  {
   "cell_type": "code",
   "execution_count": 15,
   "id": "9f854c4e",
   "metadata": {},
   "outputs": [],
   "source": [
    "df = pd.read_csv('check_dataset.csv', header = None)"
   ]
  },
  {
   "cell_type": "code",
   "execution_count": 18,
   "id": "fb53024e",
   "metadata": {},
   "outputs": [],
   "source": [
    "df.to_csv(\"check_dataset.csv\", header=['url', 'length_url', 'length_hostname', 'ip', 'nb_dots', 'nb_hyphens',\n",
    "       'nb_at', 'nb_qm', 'nb_and', 'nb_or', 'nb_eq', 'nb_underscore',\n",
    "       'nb_tilde', 'nb_percent', 'nb_slash', 'nb_star', 'nb_colon', 'nb_comma',\n",
    "       'nb_semicolumn', 'nb_dollar', 'nb_space', 'nb_www', 'nb_com',\n",
    "       'nb_dslash', 'http_in_path', 'https_token', 'ratio_digits_url',\n",
    "       'ratio_digits_host', 'punycode', 'port', 'tld_in_path',\n",
    "       'tld_in_subdomain', 'abnormal_subdomain', 'nb_subdomains',\n",
    "       'prefix_suffix', 'random_domain', 'shortening_service',\n",
    "       'path_extension', 'nb_redirection', 'nb_external_redirection',\n",
    "       'length_words_raw', 'char_repeat', 'shortest_words_raw',\n",
    "       'shortest_word_host', 'shortest_word_path', 'longest_words_raw',\n",
    "       'longest_word_host', 'longest_word_path', 'avg_words_raw',\n",
    "       'avg_word_host', 'avg_word_path', 'phish_hints', 'domain_in_brand',\n",
    "       'brand_in_subdomain', 'brand_in_path', 'suspecious_tld',\n",
    "       'statistical_report', 'nb_hyperlinks', 'ratio_intHyperlinks',\n",
    "       'ratio_extHyperlinks', 'ratio_nullHyperlinks', 'nb_extCSS',\n",
    "       'ratio_intRedirection', 'ratio_extRedirection', 'ratio_intErrors',\n",
    "       'ratio_extErrors', 'login_form', 'external_favicon', 'links_in_tags',\n",
    "       'submit_email', 'ratio_intMedia', 'ratio_extMedia', 'sfh', 'iframe',\n",
    "       'popup_window', 'safe_anchor', 'onmouseover', 'right_clic',\n",
    "       'empty_title', 'domain_in_title', 'domain_with_copyright',\n",
    "       'whois_registered_domain', 'domain_registration_length', 'domain_age',\n",
    "       'web_traffic', 'dns_record', 'google_index', 'page_rank', 'status'], index=False)"
   ]
  },
  {
   "cell_type": "code",
   "execution_count": null,
   "id": "1eb9d8f1",
   "metadata": {},
   "outputs": [],
   "source": []
  }
 ],
 "metadata": {
  "kernelspec": {
   "display_name": "Python 3 (ipykernel)",
   "language": "python",
   "name": "python3"
  },
  "language_info": {
   "codemirror_mode": {
    "name": "ipython",
    "version": 3
   },
   "file_extension": ".py",
   "mimetype": "text/x-python",
   "name": "python",
   "nbconvert_exporter": "python",
   "pygments_lexer": "ipython3",
   "version": "3.9.7"
  }
 },
 "nbformat": 4,
 "nbformat_minor": 5
}
